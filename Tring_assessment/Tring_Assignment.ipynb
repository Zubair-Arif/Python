{
  "cells": [
    {
      "cell_type": "markdown",
      "id": "adda862d",
      "metadata": {
        "id": "adda862d"
      },
      "source": [
        "\n",
        "\n",
        "# Assignment #1 (demo). Exploratory data analysis with Pandas\n",
        "\n",
        "\n",
        "**In this task you should use Pandas to answer a few questions about the [Adult](https://archive.ics.uci.edu/ml/datasets/Adult) dataset. \n",
        "\n"
      ]
    },
    {
      "cell_type": "markdown",
      "id": "3a0cfa1a",
      "metadata": {
        "id": "3a0cfa1a"
      },
      "source": [
        "**1. How many men and women (*sex* feature) are represented in this dataset?**"
      ]
    },
    {
      "cell_type": "code",
      "execution_count": 27,
      "id": "601944a4",
      "metadata": {
        "id": "601944a4"
      },
      "outputs": [
        {
          "name": "stdout",
          "output_type": "stream",
          "text": [
            "Men in the dataset : 21790\n",
            "Women in the dataset : 10771\n",
            "Other sex in the dataset : 0\n"
          ]
        }
      ],
      "source": [
        "\n",
        "import pandas as pd\n",
        "adult_data=pd.read_csv(\"adult_dataset.csv\")\n",
        "male,female,others=0,0,0\n",
        "for i in adult_data.sex:\n",
        "    if i == \"Male\":\n",
        "        male+=1\n",
        "    elif i == \"Female\":\n",
        "        female+=1 \n",
        "    else:\n",
        "        others+=1\n",
        "    \n",
        "print(\"Men in the dataset :\" ,male)\n",
        "print(\"Women in the dataset :\" ,female)\n",
        "print(\"Other sex in the dataset :\" ,others)"
      ]
    },
    {
      "cell_type": "markdown",
      "id": "b82d2ff7",
      "metadata": {
        "id": "b82d2ff7"
      },
      "source": [
        "**2. What is the average age (*age* feature) of women?**"
      ]
    },
    {
      "cell_type": "code",
      "execution_count": null,
      "id": "9774cc0e",
      "metadata": {
        "id": "9774cc0e"
      },
      "outputs": [],
      "source": [
        "# You code here (read-only in a JupyterBook, pls run jupyter-notebook to edit)"
      ]
    },
    {
      "cell_type": "markdown",
      "id": "f06b8f03",
      "metadata": {
        "id": "f06b8f03"
      },
      "source": [
        "**3. What is the percentage of German citizens (*native-country* feature)?**"
      ]
    },
    {
      "cell_type": "code",
      "execution_count": null,
      "id": "2ee96cb7",
      "metadata": {
        "id": "2ee96cb7"
      },
      "outputs": [],
      "source": [
        "# You code here (read-only in a JupyterBook, pls run jupyter-notebook to edit)"
      ]
    },
    {
      "cell_type": "markdown",
      "id": "61126953",
      "metadata": {
        "id": "61126953"
      },
      "source": [
        "**4-5. What are the mean and standard deviation of age for those who earn more than 50K per year (*salary* feature) and those who earn less than 50K per year?**"
      ]
    },
    {
      "cell_type": "code",
      "execution_count": null,
      "id": "85ff36e6",
      "metadata": {
        "id": "85ff36e6"
      },
      "outputs": [],
      "source": [
        "# You code here (read-only in a JupyterBook, pls run jupyter-notebook to edit)"
      ]
    },
    {
      "cell_type": "markdown",
      "id": "72344d3b",
      "metadata": {
        "id": "72344d3b"
      },
      "source": [
        "**6. Is it true that people who earn more than 50K have at least high school education? (*education* – `Bachelors`, `Prof-school`, `Assoc-acdm`, `Assoc-voc`, `Masters` or `Doctorate` feature)**"
      ]
    },
    {
      "cell_type": "code",
      "execution_count": null,
      "id": "4a188bc4",
      "metadata": {
        "id": "4a188bc4"
      },
      "outputs": [],
      "source": [
        "# You code here (read-only in a JupyterBook, pls run jupyter-notebook to edit)"
      ]
    },
    {
      "cell_type": "markdown",
      "id": "7b7bef2b",
      "metadata": {
        "id": "7b7bef2b"
      },
      "source": [
        "**7. Display age statistics for each race (*race* feature) and each gender (*sex* feature). Use *groupby()* and *describe()*. Find the maximum age of men of `Amer-Indian-Eskimo` race.**"
      ]
    },
    {
      "cell_type": "code",
      "execution_count": null,
      "id": "a2a54d7e",
      "metadata": {
        "id": "a2a54d7e"
      },
      "outputs": [],
      "source": [
        "# You code here (read-only in a JupyterBook, pls run jupyter-notebook to edit)"
      ]
    },
    {
      "cell_type": "markdown",
      "id": "a7944de5",
      "metadata": {
        "id": "a7944de5"
      },
      "source": [
        "**8. Among whom is the proportion of those who earn a lot (`>50K`) greater: married or single men (*marital-status* feature)? Consider as married those who have a *marital-status* starting with *Married* (`Married-civ-spouse`, `Married-spouse-absent` or `Married-AF-spouse`), the rest are considered bachelors.**"
      ]
    },
    {
      "cell_type": "code",
      "execution_count": null,
      "id": "3fa43d7b",
      "metadata": {
        "id": "3fa43d7b"
      },
      "outputs": [],
      "source": [
        "# You code here (read-only in a JupyterBook, pls run jupyter-notebook to edit)"
      ]
    },
    {
      "cell_type": "markdown",
      "id": "aab977e8",
      "metadata": {
        "id": "aab977e8"
      },
      "source": [
        "**9. What is the maximum number of hours a person works per week (*hours-per-week* feature)? How many people work such a number of hours, and what is the percentage of those who earn a lot (`>50K`) among them?**"
      ]
    },
    {
      "cell_type": "code",
      "execution_count": null,
      "id": "40caba07",
      "metadata": {
        "id": "40caba07"
      },
      "outputs": [],
      "source": [
        "# You code here (read-only in a JupyterBook, pls run jupyter-notebook to edit)"
      ]
    },
    {
      "cell_type": "markdown",
      "id": "5a6e877c",
      "metadata": {
        "id": "5a6e877c"
      },
      "source": [
        "**10. Count the average time of work (*hours-per-week*) for those who earn a little and a lot (*salary*) for each country (*native-country*). What will these be for Japan?**"
      ]
    },
    {
      "cell_type": "code",
      "execution_count": null,
      "id": "e7108aa9",
      "metadata": {
        "id": "e7108aa9"
      },
      "outputs": [],
      "source": [
        "# You code here (read-only in a JupyterBook, pls run jupyter-notebook to edit)"
      ]
    }
  ],
  "metadata": {
    "colab": {
      "provenance": []
    },
    "jupytext": {
      "formats": "md:myst",
      "text_representation": {
        "extension": ".md",
        "format_name": "myst"
      }
    },
    "kernelspec": {
      "display_name": "Python 3.10.5 64-bit",
      "language": "python",
      "name": "python3"
    },
    "language_info": {
      "codemirror_mode": {
        "name": "ipython",
        "version": 3
      },
      "file_extension": ".py",
      "mimetype": "text/x-python",
      "name": "python",
      "nbconvert_exporter": "python",
      "pygments_lexer": "ipython3",
      "version": "3.10.5"
    },
    "source_map": [
      11,
      48,
      66,
      74,
      77,
      82,
      84,
      89,
      91,
      96,
      98,
      103,
      105,
      110,
      112,
      117,
      119,
      124,
      126,
      131,
      133,
      138
    ],
    "vscode": {
      "interpreter": {
        "hash": "c4062fdb1fa5877e493dd2cb5c8c16306d1a8c5a25c04e8fa9c17ea75a521b18"
      }
    }
  },
  "nbformat": 4,
  "nbformat_minor": 5
}
